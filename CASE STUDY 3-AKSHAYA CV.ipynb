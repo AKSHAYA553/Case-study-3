{
 "cells": [
  {
   "cell_type": "markdown",
   "id": "b4f3ce72",
   "metadata": {},
   "source": [
    "# Importing the pandas ,seaborn and matplotlib librararies"
   ]
  },
  {
   "cell_type": "code",
   "execution_count": 1,
   "id": "70818e12",
   "metadata": {},
   "outputs": [],
   "source": [
    "import pandas as pd\n",
    "import numpy as np\n",
    "import matplotlib.pyplot as plt\n",
    "import seaborn as sns"
   ]
  },
  {
   "cell_type": "markdown",
   "id": "dd6f132b",
   "metadata": {},
   "source": [
    "# Reading the Sales dataset"
   ]
  },
  {
   "cell_type": "code",
   "execution_count": 2,
   "id": "d8c7ae30",
   "metadata": {},
   "outputs": [
    {
     "data": {
      "text/html": [
       "<div>\n",
       "<style scoped>\n",
       "    .dataframe tbody tr th:only-of-type {\n",
       "        vertical-align: middle;\n",
       "    }\n",
       "\n",
       "    .dataframe tbody tr th {\n",
       "        vertical-align: top;\n",
       "    }\n",
       "\n",
       "    .dataframe thead th {\n",
       "        text-align: right;\n",
       "    }\n",
       "</style>\n",
       "<table border=\"1\" class=\"dataframe\">\n",
       "  <thead>\n",
       "    <tr style=\"text-align: right;\">\n",
       "      <th></th>\n",
       "      <th>Date</th>\n",
       "      <th>Add1(in Thousands)</th>\n",
       "      <th>Add2(in Thousands)</th>\n",
       "      <th>Add3(in Thousands)</th>\n",
       "      <th>Add4(in Thousands)</th>\n",
       "      <th>Add5(in Thousands)</th>\n",
       "      <th>Profit(in Thousands)</th>\n",
       "    </tr>\n",
       "  </thead>\n",
       "  <tbody>\n",
       "    <tr>\n",
       "      <th>0</th>\n",
       "      <td>2018-10-08</td>\n",
       "      <td>208.00</td>\n",
       "      <td>222.25</td>\n",
       "      <td>206.85</td>\n",
       "      <td>216.00</td>\n",
       "      <td>215.15</td>\n",
       "      <td>4093.065</td>\n",
       "    </tr>\n",
       "    <tr>\n",
       "      <th>1</th>\n",
       "      <td>2018-10-05</td>\n",
       "      <td>217.00</td>\n",
       "      <td>218.60</td>\n",
       "      <td>205.90</td>\n",
       "      <td>210.25</td>\n",
       "      <td>209.20</td>\n",
       "      <td>4042.448</td>\n",
       "    </tr>\n",
       "    <tr>\n",
       "      <th>2</th>\n",
       "      <td>2018-10-04</td>\n",
       "      <td>223.50</td>\n",
       "      <td>227.80</td>\n",
       "      <td>216.15</td>\n",
       "      <td>217.25</td>\n",
       "      <td>218.20</td>\n",
       "      <td>4213.819</td>\n",
       "    </tr>\n",
       "    <tr>\n",
       "      <th>3</th>\n",
       "      <td>2018-10-03</td>\n",
       "      <td>230.00</td>\n",
       "      <td>237.50</td>\n",
       "      <td>225.75</td>\n",
       "      <td>226.45</td>\n",
       "      <td>227.60</td>\n",
       "      <td>4391.665</td>\n",
       "    </tr>\n",
       "    <tr>\n",
       "      <th>4</th>\n",
       "      <td>2018-10-01</td>\n",
       "      <td>234.55</td>\n",
       "      <td>234.60</td>\n",
       "      <td>221.05</td>\n",
       "      <td>230.30</td>\n",
       "      <td>230.90</td>\n",
       "      <td>4350.683</td>\n",
       "    </tr>\n",
       "  </tbody>\n",
       "</table>\n",
       "</div>"
      ],
      "text/plain": [
       "         Date  Add1(in Thousands)  Add2(in Thousands)  Add3(in Thousands)  \\\n",
       "0  2018-10-08              208.00              222.25              206.85   \n",
       "1  2018-10-05              217.00              218.60              205.90   \n",
       "2  2018-10-04              223.50              227.80              216.15   \n",
       "3  2018-10-03              230.00              237.50              225.75   \n",
       "4  2018-10-01              234.55              234.60              221.05   \n",
       "\n",
       "   Add4(in Thousands)  Add5(in Thousands)  Profit(in Thousands)  \n",
       "0              216.00              215.15              4093.065  \n",
       "1              210.25              209.20              4042.448  \n",
       "2              217.25              218.20              4213.819  \n",
       "3              226.45              227.60              4391.665  \n",
       "4              230.30              230.90              4350.683  "
      ]
     },
     "execution_count": 2,
     "metadata": {},
     "output_type": "execute_result"
    }
   ],
   "source": [
    "data=pd.read_csv(\"Add_sales_data_2018.csv\")\n",
    "data.head(5)"
   ]
  },
  {
   "cell_type": "code",
   "execution_count": 3,
   "id": "8ad827e3",
   "metadata": {},
   "outputs": [
    {
     "name": "stdout",
     "output_type": "stream",
     "text": [
      "<class 'pandas.core.frame.DataFrame'>\n",
      "RangeIndex: 205 entries, 0 to 204\n",
      "Data columns (total 7 columns):\n",
      " #   Column                Non-Null Count  Dtype  \n",
      "---  ------                --------------  -----  \n",
      " 0   Date                  205 non-null    object \n",
      " 1   Add1(in Thousands)    205 non-null    float64\n",
      " 2   Add2(in Thousands)    205 non-null    float64\n",
      " 3   Add3(in Thousands)    205 non-null    float64\n",
      " 4   Add4(in Thousands)    205 non-null    float64\n",
      " 5   Add5(in Thousands)    205 non-null    float64\n",
      " 6   Profit(in Thousands)  205 non-null    float64\n",
      "dtypes: float64(6), object(1)\n",
      "memory usage: 11.3+ KB\n"
     ]
    }
   ],
   "source": [
    "data.info()"
   ]
  },
  {
   "cell_type": "markdown",
   "id": "001a3016",
   "metadata": {},
   "source": [
    "# 1. First of all, check whether there is any relationship between the amount spent for advertising through five different companies and profit generated."
   ]
  },
  {
   "cell_type": "code",
   "execution_count": 4,
   "id": "0cb9c1f7",
   "metadata": {},
   "outputs": [
    {
     "data": {
      "image/png": "[encoded data removed]",
      "text/plain": [
       "<Figure size 1440x936 with 2 Axes>"
      ]
     },
     "metadata": {
      "needs_background": "light"
     },
     "output_type": "display_data"
    }
   ],
   "source": [
    "plt.figure(figsize = (20,13))\n",
    "sns.heatmap(data.corr(),vmin=0.95,vmax=1,annot=True,cmap='BuPu',linewidth=.75, cbar_kws={'shrink': .75})\n",
    "plt.title('Correlation Heatmap')\n",
    "plt.savefig('corr_raw.png')"
   ]
  },
  {
   "cell_type": "markdown",
   "id": "d21fff5c",
   "metadata": {},
   "source": [
    "From this correlation heatmap it is observed that there is a positive correlation between the amount spent for advertising by five different companies and their profit that is the values are closer to 1, so when one value increases the other value also increases.It symbolises a stronger relationship."
   ]
  },
  {
   "cell_type": "markdown",
   "id": "cd275408",
   "metadata": {},
   "source": [
    "# 2. Build a regression model to predict the profit from the given data and comment your findings on it.\n"
   ]
  },
  {
   "cell_type": "code",
   "execution_count": 5,
   "id": "f3dc6bdb",
   "metadata": {},
   "outputs": [],
   "source": [
    "x=data.drop(['Date', 'Profit(in Thousands)'],axis=1)\n",
    "y=data['Profit(in Thousands)']             "
   ]
  },
  {
   "cell_type": "markdown",
   "id": "78b22b6d",
   "metadata": {},
   "source": [
    "Here we are assigining independant variables to x and depandant variable to y."
   ]
  },
  {
   "cell_type": "code",
   "execution_count": 21,
   "id": "acac48db",
   "metadata": {},
   "outputs": [],
   "source": [
    "from sklearn.model_selection import train_test_split\n",
    "x_train,x_test,y_train,y_test=train_test_split(x,y,test_size=0.3,random_state=42)"
   ]
  },
  {
   "cell_type": "markdown",
   "id": "c597578f",
   "metadata": {},
   "source": [
    "Here we are spliting the data for training and testing for prediction.That is 70% for training and 30% for testing"
   ]
  },
  {
   "cell_type": "markdown",
   "id": "e0e605eb",
   "metadata": {},
   "source": [
    "# Building Linear regression model"
   ]
  },
  {
   "cell_type": "code",
   "execution_count": 57,
   "id": "9baa1e3c",
   "metadata": {},
   "outputs": [
    {
     "data": {
      "text/plain": [
       "LinearRegression()"
      ]
     },
     "execution_count": 57,
     "metadata": {},
     "output_type": "execute_result"
    }
   ],
   "source": [
    "from sklearn.linear_model import LinearRegression\n",
    "lm1=LinearRegression()\n",
    "lm1.fit(x_train,y_train)"
   ]
  },
  {
   "cell_type": "code",
   "execution_count": 58,
   "id": "e12931ad",
   "metadata": {},
   "outputs": [],
   "source": [
    "y_pred=lm1.predict(x_test)"
   ]
  },
  {
   "cell_type": "code",
   "execution_count": 59,
   "id": "1761233e",
   "metadata": {},
   "outputs": [
    {
     "data": {
      "text/plain": [
       "1.8811688124189825e-24"
      ]
     },
     "execution_count": 59,
     "metadata": {},
     "output_type": "execute_result"
    }
   ],
   "source": [
    "from sklearn.metrics import mean_squared_error\n",
    "mean_squared_error(y_pred,y_test)"
   ]
  },
  {
   "cell_type": "code",
   "execution_count": 60,
   "id": "2eb4729c",
   "metadata": {},
   "outputs": [
    {
     "data": {
      "text/plain": [
       "1.0"
      ]
     },
     "execution_count": 60,
     "metadata": {},
     "output_type": "execute_result"
    }
   ],
   "source": [
    "from sklearn.metrics import r2_score\n",
    "r2_score(y_pred,y_test)"
   ]
  },
  {
   "cell_type": "markdown",
   "id": "58db12b2",
   "metadata": {},
   "source": [
    "# Building Lasso model¶"
   ]
  },
  {
   "cell_type": "code",
   "execution_count": 61,
   "id": "e7ae1846",
   "metadata": {},
   "outputs": [],
   "source": [
    "from sklearn.linear_model import Lasso\n",
    "lm2=Lasso()\n",
    "lm2.fit(x_train,y_train)\n",
    "\n",
    "y_pred1=lm2.predict(x_test)"
   ]
  },
  {
   "cell_type": "code",
   "execution_count": 62,
   "id": "1182222b",
   "metadata": {},
   "outputs": [
    {
     "data": {
      "text/plain": [
       "0.5927008045654794"
      ]
     },
     "execution_count": 62,
     "metadata": {},
     "output_type": "execute_result"
    }
   ],
   "source": [
    "from sklearn.metrics import mean_squared_error\n",
    "mean_squared_error(y_pred1,y_test)"
   ]
  },
  {
   "cell_type": "code",
   "execution_count": 63,
   "id": "816585d6",
   "metadata": {},
   "outputs": [
    {
     "data": {
      "text/plain": [
       "0.9999971309433194"
      ]
     },
     "execution_count": 63,
     "metadata": {},
     "output_type": "execute_result"
    }
   ],
   "source": [
    "from sklearn.metrics import r2_score\n",
    "r2_score(y_pred1,y_test)"
   ]
  },
  {
   "cell_type": "markdown",
   "id": "4b761cb7",
   "metadata": {},
   "source": [
    "Here we have used linear regression model and lasso model,Linear regression model have outperformed lasso model with a MSE value Of 1.8811688124189825e-24 and r2_score of 1.0.Here the metrics used for evaluating the performance of algorithms include  mean_squared_error and r2_score."
   ]
  },
  {
   "cell_type": "markdown",
   "id": "d34e80dc",
   "metadata": {},
   "source": [
    "# 3. Predict the profit generated by the company, if they wish to spend the following amount for advertisement.\n"
   ]
  },
  {
   "cell_type": "markdown",
   "id": "96eb2c89",
   "metadata": {},
   "source": [
    "Add1(in Thousands) 290\n",
    "Add2(in Thousands) 312\n",
    "Add3(in Thousands) 309\n",
    "Add4(in Thousands) 298\n",
    "Add5(in Thousands) 320"
   ]
  },
  {
   "cell_type": "code",
   "execution_count": 64,
   "id": "4c600f59",
   "metadata": {},
   "outputs": [
    {
     "data": {
      "text/plain": [
       "array([5820.06])"
      ]
     },
     "execution_count": 64,
     "metadata": {},
     "output_type": "execute_result"
    }
   ],
   "source": [
    "lm1.predict(np.array([[290, 312,309,298,320]]))"
   ]
  },
  {
   "cell_type": "markdown",
   "id": "227bee0a",
   "metadata": {},
   "source": [
    "Here the profit is 5820"
   ]
  },
  {
   "cell_type": "code",
   "execution_count": null,
   "id": "0defe9ae",
   "metadata": {},
   "outputs": [],
   "source": []
  }
 ],
 "metadata": {
  "kernelspec": {
   "display_name": "Python 3",
   "language": "python",
   "name": "python3"
  },
  "language_info": {
   "codemirror_mode": {
    "name": "ipython",
    "version": 3
   },
   "file_extension": ".py",
   "mimetype": "text/x-python",
   "name": "python",
   "nbconvert_exporter": "python",
   "pygments_lexer": "ipython3",
   "version": "3.8.8"
  }
 },
 "nbformat": 4,
 "nbformat_minor": 5
}
